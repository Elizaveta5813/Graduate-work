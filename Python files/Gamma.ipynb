{
 "cells": [
  {
   "cell_type": "code",
   "execution_count": 1,
   "metadata": {},
   "outputs": [],
   "source": [
    "import numpy as np\n",
    "import pandas as pd\n",
    "import matplotlib.pyplot as plt\n",
    "import os, cv2\n",
    "import random\n",
    "import seaborn as sns\n",
    "import numba"
   ]
  },
  {
   "cell_type": "code",
   "execution_count": 2,
   "metadata": {},
   "outputs": [],
   "source": [
    "def Particle(x,y,z,num_0,step):\n",
    "    x0, y0, z0 = x[:,num_0], y[:,num_0], z[:,num_0]\n",
    "    Gt = np.array([])\n",
    "    t = np.array([])\n",
    "    t_step = 100\n",
    "    count = x.shape[0]\n",
    "    \n",
    "    for i in range(L,count-step):\n",
    "        x1, y1, z1 = x0[i: i + step], y0[i: i + step], z0[i: i + step]\n",
    "        x_m, y_m, z_m = np.mean(x1), np.mean(y1), np.mean(z1)\n",
    "        Gt = np.append(Gt,3. / np.mean(((x1-x_m)**2 + (y1-y_m)**2 + (z1-z_m)**2)))\n",
    "  \n",
    "\n",
    "    return np.mean(Gt)"
   ]
  },
  {
   "cell_type": "code",
   "execution_count": 3,
   "metadata": {},
   "outputs": [],
   "source": [
    "def Core(x,y,z,step):\n",
    "    count = x.shape[0]\n",
    "    L = int(count*2/3.)\n",
    "    t_step = 100\n",
    "    Gt_core = np.array([])\n",
    "    t = np.array([])\n",
    "    r = np.mean(np.sqrt(x[L:,:]**2+y[L:,:]**2+z[L:,:]**2), axis=0)\n",
    "    n = np.argsort(r)\n",
    "    R = x.shape[1]**(1./3)\n",
    "    pl = n[(r<=2*R/3)]\n",
    "    count = x.shape[0]\n",
    "\n",
    "    for i in range(L,count-step):\n",
    "        x1, y1, z1 = x[i: i + step,pl], y[i: i + step,pl], z[i: i + step,pl]\n",
    "        x_m, y_m, z_m = np.mean(x1,axis=0), np.mean(y1,axis=0), np.mean(z1,axis=0)\n",
    "        Gt_core = np.append(Gt_core,3. / np.mean(np.mean(((x1-x_m)**2 + (y1-y_m)**2 + (z1-z_m)**2), axis=1)))\n",
    "\n",
    "#     return Gt_core\n",
    "    return np.mean(Gt_core)"
   ]
  },
  {
   "cell_type": "code",
   "execution_count": 4,
   "metadata": {},
   "outputs": [],
   "source": [
    "def All(x,y,z,step):\n",
    "    Gt_all = np.array([])\n",
    "    count = x.shape[0]\n",
    "    t_step = 100\n",
    "\n",
    "    for i in range(L,count-step):\n",
    "        x1, y1, z1 = x[i: i + step,:], y[i: i + step,:], z[i: i + step,:]\n",
    "        x_m, y_m, z_m = np.mean(x1,axis=0), np.mean(y1,axis=0), np.mean(z1,axis=0)\n",
    "        Gt_all = np.append(Gt_all,3. / np.mean(np.mean(((x1-x_m)**2 + (y1-y_m)**2 + (z1-z_m)**2), axis=1)))\n",
    "        \n",
    "\n",
    "    return np.mean(Gt_all)"
   ]
  },
  {
   "cell_type": "code",
   "execution_count": 5,
   "metadata": {},
   "outputs": [],
   "source": [
    "@numba.njit\n",
    "def force_sim(x, y, z, N): #вычисление матрицы сил f/m по 1-ой координате\n",
    "\n",
    "    f_x, f_y, f_z = np.zeros(N), np.zeros(N), np.zeros(N)\n",
    "    for i in range(N):\n",
    "        r0 = np.sqrt(x[i]**2 + y[i]**2 + z[i]**2)\n",
    "        if ((r0 > N**(1/3.))):\n",
    "            f_x[i] = -x[i] * N / (r0 ** 3)\n",
    "            f_y[i] = -y[i] * N / (r0 ** 3)\n",
    "            f_z[i] = -z[i] * N / (r0 ** 3)\n",
    "        else:\n",
    "            f_x[i] = -x[i]\n",
    "            f_y[i] = -y[i]\n",
    "            f_z[i] = -z[i]\n",
    "\n",
    "    for i in range(0, N):\n",
    "        for j in range(0, N):\n",
    "            if (j != i):\n",
    "                dx = x[i] - x[j]\n",
    "                dy = y[i] - y[j]\n",
    "                dz = z[i] - z[j]\n",
    "\n",
    "                xi_ij = np.sqrt(dx ** 2 + dy ** 2 + dz ** 2)\n",
    "\n",
    "                f_x[i] = f_x[i] + dx / (xi_ij ** 3)\n",
    "                f_y[i] = f_y[i] + dy / (xi_ij ** 3)\n",
    "                f_z[i] = f_z[i] + dz / (xi_ij ** 3)\n",
    "\n",
    "    return f_x, f_y, f_z"
   ]
  },
  {
   "cell_type": "code",
   "execution_count": 6,
   "metadata": {},
   "outputs": [],
   "source": [
    "def G_force(G,num_0):\n",
    "    r = np.mean(np.sqrt(x[L:,:]**2+y[L:,:]**2+z[L:,:]**2), axis=0)\n",
    "    n = np.argsort(r)\n",
    "    \n",
    "    R = x.shape[1]**(1./3)\n",
    "\n",
    "    pl = n[(r<=2*R/3)]\n",
    "    force = np.array([])\n",
    "    force_central = np.array([])\n",
    "    force_core = np.array([])\n",
    "    V = 3/np.mean(np.mean(vx[L:,:]**2 + vy[L:,:]**2 + vz[L:,:]**2, axis=1))\n",
    "    V_core = 3/np.mean(np.mean(vx[L:,pl]**2 + vy[L:,pl]**2 + vz[L:,pl]**2, axis=1))\n",
    "    V_c = 3/np.mean(vx[L:,num_0]**2 + vy[L:,num_0]**2 + vz[L:,num_0]**2)\n",
    "    print(pl.shape)\n",
    "    \n",
    "    for i in range(L, count):\n",
    "        fx, fy, fz = force_sim(x[i,:],y[i,:],z[i,:],Np) \n",
    "        force = np.append(force, np.mean(fx**2 + fy**2 + fz**2))\n",
    "        force_central = np.append(force_central, (fx[num_0]**2 + fy[num_0]**2 + fz[num_0]**2))\n",
    "        force_core = np.append(force_core, np.mean(fx[pl]**2 + fy[pl]**2 + fz[pl]**2))\n",
    "    f = np.mean(force)/3. * V**2\n",
    "    f_c = np.mean(force_central)/3. * V_c**2\n",
    "    f_core = np.mean(force_core)/3. * V_c**2\n",
    "    \n",
    "    return f_c, f_core, f\n",
    "    \n",
    "    \n",
    "#     return G, np.mean(f_c),np.mean(f_core), np.mean(f)"
   ]
  },
  {
   "cell_type": "code",
   "execution_count": 7,
   "metadata": {},
   "outputs": [],
   "source": [
    "def G_V(G, num_0):\n",
    "    \n",
    "    # all particles\n",
    "    V = 3/np.mean(vx[L:,:]**2 + vy[L:,:]**2 + vz[L:,:]**2)\n",
    "    V1 = V\n",
    "\n",
    "    # central particle\n",
    "\n",
    "    V = 3/np.mean(vx[L:,num_0]**2 + vy[L:,num_0]**2 + vz[L:,num_0]**2)\n",
    "    V2 =V\n",
    "\n",
    "    \n",
    "    r = np.mean(np.sqrt(x[L:,:]**2+y[L:,:]**2+z[L:,:]**2), axis=0)\n",
    "    n = np.argsort(r)\n",
    "    R = x.shape[1]**(1./3)\n",
    "    pl = n[(r<=2*R/3)]\n",
    "\n",
    "    vcx, vcy, vcz = vx[L:,pl], vy[L:,pl], vz[L:,pl]\n",
    "    V = 3/np.mean(vcx**2 + vcy**2 + vcz**2)\n",
    "    \n",
    "    return V2, V, V1"
   ]
  },
  {
   "cell_type": "code",
   "execution_count": 8,
   "metadata": {},
   "outputs": [],
   "source": [
    "def G_r(dr):\n",
    "    st = 2000\n",
    "    gr = 3/np.mean((x-np.mean(x[st:,:],axis=0))**2 + (y-np.mean(y[st:,:],axis=0))**2 + (z-np.mean(z[st:,:],axis=0))**2, axis=1)\n",
    "    tl = np.arange(gr.shape[0])\n",
    "    count = x.shape[0]\n",
    "    \n",
    "    rall = 3./np.mean(3./gr[int(gr.shape[0]/2):])\n",
    "\n",
    "    x0, y0, z0 = np.mean(x,axis=0), np.mean(y,axis=0), np.mean(z,axis=0)\n",
    "    num_0 = np.argmin(x0**2 + y0**2 + z0**2)\n",
    "    x1,y1,z1 = x[:,num_0], y[:,num_0], z[:,num_0]\n",
    "    count = x.shape[0]\n",
    "    gr_c = 3/((x[:,num_0]-np.mean(x[st:,num_0],axis=0))**2 + (y[:,num_0]-np.mean(y[st:,num_0],axis=0))**2 + (z[:,num_0]-np.mean(z[st:,num_0],axis=0))**2)\n",
    "    rc = 3./np.mean(3./gr_c[int(gr_c.shape[0]/2):])\n",
    "    r = np.mean(np.sqrt(x[L:,:]**2+y[L:,:]**2+z[L:,:]**2), axis=0)\n",
    "    n = np.argsort(r)\n",
    "    R = x.shape[1]**(1./3)\n",
    "    pl = n[(r<=2*R/3)]\n",
    "    gr_core= 3/np.mean((x[:,pl]-np.mean(x[st:,pl],axis=0))**2 + (y[:,pl]-np.mean(y[st:,pl],axis=0))**2 + (z[:,pl]-np.mean(z[st:,pl],axis=0))**2, axis=1)\n",
    "    rcor = 3./np.mean(3./gr_core[int(gr_core.shape[0]/2):])\n",
    "\n",
    "    \n",
    "    return rc, rcor, rall"
   ]
  },
  {
   "cell_type": "code",
   "execution_count": 9,
   "metadata": {},
   "outputs": [],
   "source": [
    "def G_dirty(a):\n",
    "    h = 0.01\n",
    "    \n",
    "    r = np.mean(np.sqrt(x[L:,:]**2+y[L:,:]**2+z[L:,:]**2), axis=0)\n",
    "    n = np.argsort(r)\n",
    "    \n",
    "    R = x.shape[1]**(1./3)\n",
    "\n",
    "    num = n[(r<=2*R/3)]\n",
    "    gamma = 0.09\n",
    "\n",
    "    a2 = np.zeros(3)\n",
    "    \n",
    "    f2 = (fy[L:,:]**2+fx[L:,:]**2+fz[L:,:]**2)\n",
    "    a2[2] = 3./np.mean(f2) * (1 - gamma * (gamma - 2./h))\n",
    "    a2[0] = 3./np.mean(f2[:,num_0]) * (1 - gamma * (gamma - 2./h))\n",
    "    a2[1] = 3./np.mean(f2[:,num]) * (1 - gamma * (gamma - 2./h))\n",
    "    return a2"
   ]
  },
  {
   "cell_type": "code",
   "execution_count": 53,
   "metadata": {},
   "outputs": [
    {
     "name": "stdout",
     "output_type": "stream",
     "text": [
      "10\n",
      "20\n",
      "30\n",
      "40\n",
      "50\n",
      "60\n",
      "70\n",
      "80\n",
      "90\n",
      "100\n",
      "110\n",
      "120\n",
      "130\n",
      "140\n",
      "150\n",
      "160\n",
      "170\n",
      "180\n",
      "190\n",
      "200\n",
      "250\n",
      "500\n"
     ]
    }
   ],
   "source": [
    "L = 2000\n",
    "count = 3000\n",
    "Np = 1075\n",
    "G_date = np.arange(10,210,10)\n",
    "G_date = np.append(G_date, [250, 500])\n",
    "data = np.array([])\n",
    "time = np.arange(L,count)\n",
    "# time_all = np.arange(0,count)\n",
    "Gt_all_coord, Gt_all_V, Gt_all_force, Gt_all_dirty, Gt_all_l5, Gt_all_l10 = np.array([]), np.array([]), np.array([]), np.array([]), np.array([]), np.array([])\n",
    "Gt_core_coord, Gt_core_V, Gt_core_force, Gt_core_dirty, Gt_core_l5, Gt_core_l10 = np.array([]), np.array([]), np.array([]), np.array([]), np.array([]), np.array([])\n",
    "Gt_part_coord, Gt_part_V, Gt_part_force, Gt_part_dirty, Gt_part_l5, Gt_part_l10 = np.array([]), np.array([]), np.array([]), np.array([]), np.array([]), np.array([])\n",
    "\n",
    "for dr in G_date:\n",
    "    print(dr)\n",
    "\n",
    "    dir_name = '/Users/elizavetashpilko/Desktop/Work/test/HCP/N=853/0/'+str(dr)+'/'\n",
    "\n",
    "    x = np.loadtxt(dir_name+\"x_{}.txt\".format(dr), dtype='float64')\n",
    "    y = np.loadtxt(dir_name+\"y_{}.txt\".format(dr), dtype='float64')\n",
    "    z = np.loadtxt(dir_name+\"z_{}.txt\".format(dr), dtype='float64')\n",
    "    \n",
    "    vx = np.loadtxt(dir_name+\"v_x_{}.txt\".format(dr), dtype='float64')\n",
    "    vy = np.loadtxt(dir_name+\"v_y_{}.txt\".format(dr), dtype='float64')\n",
    "    vz = np.loadtxt(dir_name+\"v_z_{}.txt\".format(dr), dtype='float64')\n",
    "    \n",
    "    fx = np.loadtxt(dir_name+\"force_x_{}.txt\".format(dr), dtype='float64')\n",
    "    fy = np.loadtxt(dir_name+\"force_y_{}.txt\".format(dr), dtype='float64')\n",
    "    fz = np.loadtxt(dir_name+\"force_z_{}.txt\".format(dr), dtype='float64')\n",
    "    \n",
    "    num_0 = np.argmin(np.mean(x[L:,:]**2 + y[L:,:]**2 + z[L:,:]**2, axis=0))\n",
    "    \n",
    "#     GT_part, GT_core, GT_all = G_r(dr)\n",
    "#     Gt_all_coord = np.append(Gt_all_coord, GT_all)\n",
    "#     Gt_core_coord = np.append(Gt_core_coord, GT_core)\n",
    "#     Gt_part_coord = np.append(Gt_part_coord, GT_part)\n",
    "    \n",
    "#     GT_part, GT_core, GT_all = G_V(dr, num_0)\n",
    "#     Gt_all_V = np.append(Gt_all_V, GT_all)\n",
    "#     Gt_core_V = np.append(Gt_core_V, GT_core)\n",
    "#     Gt_part_V = np.append(Gt_part_V, GT_part)\n",
    "    \n",
    "#     GT_part, GT_core, GT_all = G_force(dr, num_0)\n",
    "#     Gt_all_force = np.append(Gt_all_force, GT_all)\n",
    "#     Gt_core_force = np.append(Gt_core_force, GT_core)\n",
    "#     Gt_part_force = np.append(Gt_part_force, GT_part)\n",
    "    \n",
    "#     GT_part, GT_core, GT_all = G_dirty(dr)\n",
    "#     Gt_all_dirty = np.append(Gt_all_dirty, GT_all)\n",
    "#     Gt_core_dirty = np.append(Gt_core_dirty, GT_core)\n",
    "#     Gt_part_dirty = np.append(Gt_part_dirty, GT_part)\n",
    "    \n",
    "    GT_part, GT_core, GT_all = Particle(x,y,z,num_0,step=5), Core(x,y,z,step=5), All(x,y,z,step=5)\n",
    "    Gt_all_l5 = np.append(Gt_all_l5, GT_all)\n",
    "    Gt_core_l5 = np.append(Gt_core_l5, GT_core)\n",
    "    Gt_part_l5 = np.append(Gt_part_l5, GT_part)\n",
    "    \n",
    "    GT_part, GT_core, GT_all = Particle(x,y,z,num_0,step=10), Core(x,y,z,step=10), All(x,y,z,step=10)\n",
    "    Gt_all_l10 = np.append(Gt_all_l10, GT_all)\n",
    "    Gt_core_l10 = np.append(Gt_core_l10, GT_core)\n",
    "    Gt_part_l10 = np.append(Gt_part_l10, GT_part)"
   ]
  },
  {
   "cell_type": "code",
   "execution_count": 54,
   "metadata": {},
   "outputs": [],
   "source": [
    "header = [\"Г\", \"Central particle\", \"Core\", \"All\"]\n",
    "# pd.DataFrame(np.transpose(np.array([G_date, Gt_part_coord, Gt_core_coord, Gt_all_coord]))).to_csv('Coordinate N={}.csv'.format(x.shape[1]),index=False, header=header)\n",
    "# pd.DataFrame(np.transpose(np.array([G_date, Gt_part_V, Gt_core_V, Gt_all_V]))).to_csv('Velocity N={}.csv'.format(x.shape[1]),index=False, header=header)\n",
    "# pd.DataFrame(np.transpose(np.array([G_date, Gt_part_force, Gt_core_force, Gt_all_force]))).to_csv('Force N={}.csv'.format(x.shape[1]),index=False, header=header)\n",
    "# pd.DataFrame(np.transpose(np.array([G_date, Gt_part_dirty, Gt_core_dirty, Gt_all_dirty]))).to_csv('Dirty force N={}.csv'.format(x.shape[1]),index=False, header=header)\n",
    "pd.DataFrame(np.transpose(np.array([G_date, Gt_part_l5, Gt_core_l5, Gt_all_l5]))).to_csv('Gamma_l N={}, l=5.csv'.format(x.shape[1]),index=False, header=header)\n",
    "pd.DataFrame(np.transpose(np.array([G_date, Gt_part_l10, Gt_core_l10, Gt_all_l10]))).to_csv('Gamma_l N={}, l=10.csv'.format(x.shape[1]),index=False, header=header)\n"
   ]
  },
  {
   "cell_type": "code",
   "execution_count": 49,
   "metadata": {},
   "outputs": [],
   "source": [
    "header = [\"Г\", \"Central particle\", \"Core\", \"All\"]\n",
    "pd.DataFrame(np.transpose(np.array([G_date, Gt_part, Gt_core, Gt_all]))).to_csv('Coordinate N={}.csv'.format(x.shape[1]),index=False, header=header)"
   ]
  },
  {
   "cell_type": "code",
   "execution_count": 50,
   "metadata": {},
   "outputs": [
    {
     "data": {
      "text/plain": [
       "<matplotlib.legend.Legend at 0x7fe90573d5b0>"
      ]
     },
     "execution_count": 50,
     "metadata": {},
     "output_type": "execute_result"
    },
    {
     "data": {
      "image/png": "[encoded data removed]",
      "text/plain": [
       "<Figure size 432x288 with 1 Axes>"
      ]
     },
     "metadata": {
      "needs_background": "light"
     },
     "output_type": "display_data"
    }
   ],
   "source": [
    "plt.scatter(G_date, Gt_part, label=\"Центральная частица\")\n",
    "plt.scatter(G_date, Gt_core, label=\"Частицы ядра\")\n",
    "plt.scatter(G_date, Gt_all, label=\"Все частицы\")\n",
    "plt.plot(G_date, G_date, label='$\\\\Gamma_4 = \\\\Gamma$')\n",
    "plt.ylabel(\"$\\\\Gamma_4$\",fontsize=12)\n",
    "plt.xlabel(\"$\\\\Gamma$\",fontsize=12)\n",
    "plt.grid()\n",
    "# plt.ylim(0,550)\n",
    "plt.legend(fontsize=12)\n",
    "# plt.savefig('G dirty force N={}.png'.format(Np), bbox_inches='tight')"
   ]
  },
  {
   "cell_type": "code",
   "execution_count": 154,
   "metadata": {},
   "outputs": [
    {
     "data": {
      "text/plain": [
       "array([[2.00000000e+01, 9.41984861e-02, 1.36075637e-01, 9.77851965e-02],\n",
       "       [3.00000000e+01, 1.33020625e-01, 1.43954582e-01, 9.05017312e-02],\n",
       "       [4.00000000e+01, 1.01482560e-01, 1.59846977e-01, 1.04658621e-01],\n",
       "       [5.00000000e+01, 1.29889748e-01, 1.77767570e-01, 1.42960175e-01],\n",
       "       [6.00000000e+01, 2.11618444e-01, 2.04690028e-01, 1.57215956e-01],\n",
       "       [7.00000000e+01, 1.52248199e-01, 2.26609734e-01, 2.11246994e-01],\n",
       "       [8.00000000e+01, 3.27914288e-01, 2.58920012e-01, 2.52131430e-01],\n",
       "       [9.00000000e+01, 2.73072013e-01, 2.61708938e-01, 2.70898223e-01],\n",
       "       [1.00000000e+02, 4.87433502e-01, 3.55585295e-01, 3.46467109e-01],\n",
       "       [1.10000000e+02, 4.22035529e-01, 4.28805443e-01, 4.37599713e-01],\n",
       "       [1.20000000e+02, 9.33364348e-01, 4.31287283e-01, 4.81073116e-01],\n",
       "       [1.30000000e+02, 2.53871249e+01, 4.64643359e-01, 5.12490823e-01],\n",
       "       [1.40000000e+02, 2.72173834e+01, 7.11524420e-01, 7.26152593e-01],\n",
       "       [1.50000000e+02, 3.81041001e+01, 7.59799368e-01, 7.77374400e-01],\n",
       "       [1.60000000e+02, 3.46361832e+01, 7.66492568e-01, 8.88456190e-01],\n",
       "       [1.70000000e+02, 4.37953718e+01, 8.94879173e-01, 9.32674058e-01],\n",
       "       [1.80000000e+02, 4.68602515e+01, 1.05916339e+00, 1.09725002e+00],\n",
       "       [1.90000000e+02, 4.85430161e+01, 1.23681556e+00, 1.56837466e+00],\n",
       "       [2.00000000e+02, 5.20265691e+01, 1.34357207e+00, 1.64433385e+00],\n",
       "       [2.50000000e+02, 6.81489012e+01, 1.95163343e+00, 2.49472105e+00],\n",
       "       [5.00000000e+02, 1.65942668e+02, 2.15533034e+01, 1.00644607e+01]])"
      ]
     },
     "execution_count": 154,
     "metadata": {},
     "output_type": "execute_result"
    }
   ],
   "source": [
    "N=335\n",
    "data = np.reshape(data, (G_date.shape[0],4))\n",
    "# pd.DataFrame(data).to_csv('Force_{}.csv'.format(N), index=False, header=['Gamma','Central','Core','All'])\n",
    "data"
   ]
  },
  {
   "cell_type": "code",
   "execution_count": 156,
   "metadata": {},
   "outputs": [
    {
     "data": {
      "image/png": "[encoded data removed]",
      "text/plain": [
       "<Figure size 432x288 with 1 Axes>"
      ]
     },
     "metadata": {
      "needs_background": "light"
     },
     "output_type": "display_data"
    }
   ],
   "source": [
    "plt.scatter(data[:,0], np.abs(data[:,1]),label='Центральная частица')\n",
    "plt.scatter(data[:,0], data[:,2],label='Ядро кластера')\n",
    "plt.scatter(data[:,0], data[:,3],label='Все частицы')\n",
    "plt.plot(data[:,0], data[:,0],label='$Г=Г_1$')\n",
    "plt.xlabel('Г',fontsize=14)\n",
    "plt.ylabel('$Г_1$',fontsize=14)\n",
    "# plt.ylim(0,510)\n",
    "plt.grid()\n",
    "plt.legend(fontsize=12)\n",
    "plt.savefig('Coordinate_{}.png'.format(N))"
   ]
  },
  {
   "cell_type": "code",
   "execution_count": 105,
   "metadata": {},
   "outputs": [
    {
     "name": "stdout",
     "output_type": "stream",
     "text": [
      "0.48906170342306904\n",
      "[10.         10.00287879  4.29937869 10.1376148 ]\n",
      "0.025202056480271268\n",
      "[20.         19.97711782 31.91512547 17.67050045]\n",
      "0.08603118890016484\n",
      "[30.         30.02564319 22.73732115 28.43013713]\n",
      "0.06414027746041688\n",
      "[40.         40.00809358 37.05803006 36.14124752]\n",
      "0.07032538231416381\n",
      "[50.         49.88952911 35.70822394 47.41463094]\n",
      "0.017572582056199635\n",
      "[ 60.          59.95393779 252.29722359  55.59918087]\n",
      "0.03971520051475055\n",
      "[ 70.          70.11623181 160.1999954   62.59909863]\n",
      "0.05712355470348168\n",
      "[80.         79.81915344 30.8350767  74.28503817]\n",
      "0.03272529222063021\n",
      "[ 90.          89.65009734 334.23305654  87.71675703]\n",
      "0.027391448621466082\n",
      "[100.         100.08518817  95.34991439  89.8091915 ]\n"
     ]
    },
    {
     "ename": "KeyboardInterrupt",
     "evalue": "",
     "output_type": "error",
     "traceback": [
      "\u001b[0;31m---------------------------------------------------------------------------\u001b[0m",
      "\u001b[0;31mKeyboardInterrupt\u001b[0m                         Traceback (most recent call last)",
      "\u001b[0;32m<ipython-input-105-256e34da1580>\u001b[0m in \u001b[0;36m<module>\u001b[0;34m\u001b[0m\n\u001b[1;32m     15\u001b[0m \u001b[0;34m\u001b[0m\u001b[0m\n\u001b[1;32m     16\u001b[0m     \u001b[0mx\u001b[0m \u001b[0;34m=\u001b[0m \u001b[0mnp\u001b[0m\u001b[0;34m.\u001b[0m\u001b[0mloadtxt\u001b[0m\u001b[0;34m(\u001b[0m\u001b[0mdir_name\u001b[0m\u001b[0;34m+\u001b[0m\u001b[0;34m\"x_{}.txt\"\u001b[0m\u001b[0;34m.\u001b[0m\u001b[0mformat\u001b[0m\u001b[0;34m(\u001b[0m\u001b[0ma\u001b[0m\u001b[0;34m)\u001b[0m\u001b[0;34m,\u001b[0m \u001b[0mdtype\u001b[0m\u001b[0;34m=\u001b[0m\u001b[0;34m'float64'\u001b[0m\u001b[0;34m)\u001b[0m\u001b[0;34m\u001b[0m\u001b[0;34m\u001b[0m\u001b[0m\n\u001b[0;32m---> 17\u001b[0;31m     \u001b[0my\u001b[0m \u001b[0;34m=\u001b[0m \u001b[0mnp\u001b[0m\u001b[0;34m.\u001b[0m\u001b[0mloadtxt\u001b[0m\u001b[0;34m(\u001b[0m\u001b[0mdir_name\u001b[0m\u001b[0;34m+\u001b[0m\u001b[0;34m\"y_{}.txt\"\u001b[0m\u001b[0;34m.\u001b[0m\u001b[0mformat\u001b[0m\u001b[0;34m(\u001b[0m\u001b[0ma\u001b[0m\u001b[0;34m)\u001b[0m\u001b[0;34m,\u001b[0m \u001b[0mdtype\u001b[0m\u001b[0;34m=\u001b[0m\u001b[0;34m'float64'\u001b[0m\u001b[0;34m)\u001b[0m\u001b[0;34m\u001b[0m\u001b[0;34m\u001b[0m\u001b[0m\n\u001b[0m\u001b[1;32m     18\u001b[0m     \u001b[0mz\u001b[0m \u001b[0;34m=\u001b[0m \u001b[0mnp\u001b[0m\u001b[0;34m.\u001b[0m\u001b[0mloadtxt\u001b[0m\u001b[0;34m(\u001b[0m\u001b[0mdir_name\u001b[0m\u001b[0;34m+\u001b[0m\u001b[0;34m\"z_{}.txt\"\u001b[0m\u001b[0;34m.\u001b[0m\u001b[0mformat\u001b[0m\u001b[0;34m(\u001b[0m\u001b[0ma\u001b[0m\u001b[0;34m)\u001b[0m\u001b[0;34m,\u001b[0m \u001b[0mdtype\u001b[0m\u001b[0;34m=\u001b[0m\u001b[0;34m'float64'\u001b[0m\u001b[0;34m)\u001b[0m\u001b[0;34m\u001b[0m\u001b[0;34m\u001b[0m\u001b[0m\n\u001b[1;32m     19\u001b[0m \u001b[0;34m\u001b[0m\u001b[0m\n",
      "\u001b[0;32m~/opt/anaconda3/lib/python3.8/site-packages/numpy/lib/npyio.py\u001b[0m in \u001b[0;36mloadtxt\u001b[0;34m(fname, dtype, comments, delimiter, converters, skiprows, usecols, unpack, ndmin, encoding, max_rows, quotechar, like)\u001b[0m\n\u001b[1;32m   1306\u001b[0m         \u001b[0mdelimiter\u001b[0m \u001b[0;34m=\u001b[0m \u001b[0mdelimiter\u001b[0m\u001b[0;34m.\u001b[0m\u001b[0mdecode\u001b[0m\u001b[0;34m(\u001b[0m\u001b[0;34m'latin1'\u001b[0m\u001b[0;34m)\u001b[0m\u001b[0;34m\u001b[0m\u001b[0;34m\u001b[0m\u001b[0m\n\u001b[1;32m   1307\u001b[0m \u001b[0;34m\u001b[0m\u001b[0m\n\u001b[0;32m-> 1308\u001b[0;31m     arr = _read(fname, dtype=dtype, comment=comment, delimiter=delimiter,\n\u001b[0m\u001b[1;32m   1309\u001b[0m                 \u001b[0mconverters\u001b[0m\u001b[0;34m=\u001b[0m\u001b[0mconverters\u001b[0m\u001b[0;34m,\u001b[0m \u001b[0mskiplines\u001b[0m\u001b[0;34m=\u001b[0m\u001b[0mskiprows\u001b[0m\u001b[0;34m,\u001b[0m \u001b[0musecols\u001b[0m\u001b[0;34m=\u001b[0m\u001b[0musecols\u001b[0m\u001b[0;34m,\u001b[0m\u001b[0;34m\u001b[0m\u001b[0;34m\u001b[0m\u001b[0m\n\u001b[1;32m   1310\u001b[0m                 \u001b[0munpack\u001b[0m\u001b[0;34m=\u001b[0m\u001b[0munpack\u001b[0m\u001b[0;34m,\u001b[0m \u001b[0mndmin\u001b[0m\u001b[0;34m=\u001b[0m\u001b[0mndmin\u001b[0m\u001b[0;34m,\u001b[0m \u001b[0mencoding\u001b[0m\u001b[0;34m=\u001b[0m\u001b[0mencoding\u001b[0m\u001b[0;34m,\u001b[0m\u001b[0;34m\u001b[0m\u001b[0;34m\u001b[0m\u001b[0m\n",
      "\u001b[0;32m~/opt/anaconda3/lib/python3.8/site-packages/numpy/lib/npyio.py\u001b[0m in \u001b[0;36m_read\u001b[0;34m(fname, delimiter, comment, quote, imaginary_unit, usecols, skiplines, max_rows, converters, ndmin, unpack, dtype, encoding)\u001b[0m\n\u001b[1;32m    977\u001b[0m \u001b[0;34m\u001b[0m\u001b[0m\n\u001b[1;32m    978\u001b[0m         \u001b[0;32mif\u001b[0m \u001b[0mread_dtype_via_object_chunks\u001b[0m \u001b[0;32mis\u001b[0m \u001b[0;32mNone\u001b[0m\u001b[0;34m:\u001b[0m\u001b[0;34m\u001b[0m\u001b[0;34m\u001b[0m\u001b[0m\n\u001b[0;32m--> 979\u001b[0;31m             arr = _load_from_filelike(\n\u001b[0m\u001b[1;32m    980\u001b[0m                 \u001b[0mdata\u001b[0m\u001b[0;34m,\u001b[0m \u001b[0mdelimiter\u001b[0m\u001b[0;34m=\u001b[0m\u001b[0mdelimiter\u001b[0m\u001b[0;34m,\u001b[0m \u001b[0mcomment\u001b[0m\u001b[0;34m=\u001b[0m\u001b[0mcomment\u001b[0m\u001b[0;34m,\u001b[0m \u001b[0mquote\u001b[0m\u001b[0;34m=\u001b[0m\u001b[0mquote\u001b[0m\u001b[0;34m,\u001b[0m\u001b[0;34m\u001b[0m\u001b[0;34m\u001b[0m\u001b[0m\n\u001b[1;32m    981\u001b[0m                 \u001b[0mimaginary_unit\u001b[0m\u001b[0;34m=\u001b[0m\u001b[0mimaginary_unit\u001b[0m\u001b[0;34m,\u001b[0m\u001b[0;34m\u001b[0m\u001b[0;34m\u001b[0m\u001b[0m\n",
      "\u001b[0;32m~/opt/anaconda3/lib/python3.8/codecs.py\u001b[0m in \u001b[0;36mgetstate\u001b[0;34m(self)\u001b[0m\n\u001b[1;32m    329\u001b[0m         \u001b[0mself\u001b[0m\u001b[0;34m.\u001b[0m\u001b[0mbuffer\u001b[0m \u001b[0;34m=\u001b[0m \u001b[0;34mb\"\"\u001b[0m\u001b[0;34m\u001b[0m\u001b[0;34m\u001b[0m\u001b[0m\n\u001b[1;32m    330\u001b[0m \u001b[0;34m\u001b[0m\u001b[0m\n\u001b[0;32m--> 331\u001b[0;31m     \u001b[0;32mdef\u001b[0m \u001b[0mgetstate\u001b[0m\u001b[0;34m(\u001b[0m\u001b[0mself\u001b[0m\u001b[0;34m)\u001b[0m\u001b[0;34m:\u001b[0m\u001b[0;34m\u001b[0m\u001b[0;34m\u001b[0m\u001b[0m\n\u001b[0m\u001b[1;32m    332\u001b[0m         \u001b[0;31m# additional state info is always 0\u001b[0m\u001b[0;34m\u001b[0m\u001b[0;34m\u001b[0m\u001b[0;34m\u001b[0m\u001b[0m\n\u001b[1;32m    333\u001b[0m         \u001b[0;32mreturn\u001b[0m \u001b[0;34m(\u001b[0m\u001b[0mself\u001b[0m\u001b[0;34m.\u001b[0m\u001b[0mbuffer\u001b[0m\u001b[0;34m,\u001b[0m \u001b[0;36m0\u001b[0m\u001b[0;34m)\u001b[0m\u001b[0;34m\u001b[0m\u001b[0;34m\u001b[0m\u001b[0m\n",
      "\u001b[0;31mKeyboardInterrupt\u001b[0m: "
     ]
    }
   ],
   "source": [
    "G_date = np.arange(10,210,10)\n",
    "G_date = np.append(G_date, np.array([250,500]))\n",
    "\n",
    "for a in G_date:\n",
    "    x = np.array([])\n",
    "    y = np.array([])\n",
    "    z = np.array([])\n",
    "    vy = np.array([])\n",
    "    vz = np.array([])\n",
    "\n",
    "    G = str(a)\n",
    "    count = 3000\n",
    "    dir_name = '/Users/elizavetashpilko/Desktop/Work/test/HCP/N=1075/0/'+G+'/'\n",
    "#     plt.rcParams[\"savefig.directory\"] = os.chdir(os.path.dirname(dir_name))\n",
    "    \n",
    "    x = np.loadtxt(dir_name+\"x_{}.txt\".format(a), dtype='float64')\n",
    "    y = np.loadtxt(dir_name+\"y_{}.txt\".format(a), dtype='float64')\n",
    "    z = np.loadtxt(dir_name+\"z_{}.txt\".format(a), dtype='float64')\n",
    "\n",
    "    vx = np.loadtxt(dir_name+\"v_x_{}.txt\".format(a), dtype='float64')\n",
    "    vy = np.loadtxt(dir_name+\"v_y_{}.txt\".format(a), dtype='float64')\n",
    "    vz = np.loadtxt(dir_name+\"v_z_{}.txt\".format(a), dtype='float64')\n",
    "\n",
    "    fx = np.loadtxt(dir_name+\"force_x_{}.txt\".format(a), dtype='float64')\n",
    "    fy = np.loadtxt(dir_name+\"force_y_{}.txt\".format(a), dtype='float64')\n",
    "    fz = np.loadtxt(dir_name+\"force_z_{}.txt\".format(a), dtype='float64')\n",
    "\n",
    "    h = 0.01\n",
    "    num_0 = np.argmin(np.mean(x**2+y**2+z**2, axis=0))\n",
    "    r = np.mean(np.sqrt(x**2+y**2+z**2), axis=0)\n",
    "    n = np.argsort(r)\n",
    "    \n",
    "    R = x.shape[1]**(1./3)\n",
    "\n",
    "    num = n[(r<=2*R/3)]\n",
    "    gamma = 0.09\n",
    "\n",
    "    a2 = np.zeros(4)\n",
    "    gv = 3./np.mean(vx**2 + vy**2 + vz**2,axis=1)\n",
    "    gv = 1./np.mean(1./gv[2000:])\n",
    "    w0 = np.mean(vx**2 + vy**2 + vz**2,axis=1) / np.mean(x**2 + y**2 + z**2,axis=1)\n",
    "    w0 = np.mean(w0[2000:])\n",
    "    a2[0] = a\n",
    "    a2[1] = gv\n",
    "\n",
    "    f2 = fy[:,num_0]**2+fx[:,num_0]**2+fz[:,num_0]**2 - 6 * gamma/ (h * 3./(vy[:,num_0]**2+vx[:,num_0]**2+vz[:,num_0]**2)) + gamma * (vy[:,num_0]**2+vx[:,num_0]**2+vz[:,num_0]**2)\n",
    "    force = np.mean(f2[2000:])\n",
    "    print(np.mean(fy[2000:,num_0]**2+fx[2000:,num_0]**2+fz[2000:,num_0]**2 - 6 * gamma/ (h * gv) + gamma * (vy[2000:,num_0]**2+vx[2000:,num_0]**2+vz[2000:,num_0]**2)))\n",
    "    a2[2] = 3./force\n",
    "\n",
    "    f2 = np.mean(fy[:,num]**2+fx[:,num]**2+fz[:,num]**2 - 6 * gamma/ (h * gv) + gamma * (vy[:,num]**2+vx[:,num]**2+vz[:,num]**2),axis=1)\n",
    "    force = np.mean(f2[2000:])\n",
    "    a2[3] = 3./force\n",
    "\n",
    "#     file = open('/Users/elizavetashpilko/Work/test/HCP/N=1075/Dirty_force_core.txt', 'a')\n",
    "#     np.savetxt(file, a2, newline=\" \", fmt='%f')\n",
    "#     file.write(\"\\n\")\n",
    "    print(a2)\n",
    "    "
   ]
  },
  {
   "cell_type": "code",
   "execution_count": 17,
   "metadata": {},
   "outputs": [
    {
     "ename": "IndentationError",
     "evalue": "unexpected indent (<ipython-input-17-60f0d93108c4>, line 2)",
     "output_type": "error",
     "traceback": [
      "\u001b[0;36m  File \u001b[0;32m\"<ipython-input-17-60f0d93108c4>\"\u001b[0;36m, line \u001b[0;32m2\u001b[0m\n\u001b[0;31m    h = 0.01\u001b[0m\n\u001b[0m    ^\u001b[0m\n\u001b[0;31mIndentationError\u001b[0m\u001b[0;31m:\u001b[0m unexpected indent\n"
     ]
    }
   ],
   "source": [
    "a = 500\n",
    "    h = 0.01\n",
    "    num_0 = np.argmin(np.mean(x**2+y**2+z**2, axis=0))\n",
    "    print(np.amin(np.sqrt(x**2+y**2+z**2)))\n",
    "    r = np.mean(np.sqrt(x**2+y**2+z**2), axis=0)\n",
    "    num = np.argsort(r)\n",
    "    r = np.sort(r)\n",
    "\n",
    "    num = num[(r<=3)]\n",
    "    gamma = 0.09\n",
    "\n",
    "    a2 = np.zeros(4)\n",
    "    gv = 3./np.mean(vx**2 + vy**2 + vz**2,axis=1)\n",
    "\n",
    "    gv = 1./np.mean(1./gv[1500:])\n",
    "    w0 = np.mean(vx**2 + vy**2 + vz**2,axis=1) / np.mean(x**2 + y**2 + z**2,axis=1)\n",
    "    w0 = np.mean(w0[1500:])\n",
    "    a2[0] = a\n",
    "    a2[1] = gv\n",
    "\n",
    "    f2 = fy[:,num_0]**2+fx[:,num_0]**2+fz[:,num_0]**2 - 6 * gamma/ (h * a) + gamma * (vy[:,num_0]**2+vx[:,num_0]**2+vz[:,num_0]**2)\n",
    "    force = np.mean(f2[0:])\n",
    "    a2[2] = 3./force\n",
    "\n",
    "    f2 = np.mean(fy[:,num]**2+fx[:,num]**2+fz[:,num]**2 - 6 * gamma/ (h * gv) + gamma * (vy[:,num]**2+vx[:,num]**2+vz[:,num]**2),axis=1)\n",
    "    force = np.mean(f2[1500:])\n",
    "    a2[3] = 3./force\n",
    "\n",
    "#     file = open('/Users/elizavetashpilko/Work/test/HCP/N=1075/Dirty_force_core.txt', 'a')\n",
    "#     np.savetxt(file, a2, newline=\" \", fmt='%f')\n",
    "#     file.write(\"\\n\")\n",
    "    print(a2)\n",
    "    "
   ]
  },
  {
   "cell_type": "code",
   "execution_count": 17,
   "metadata": {},
   "outputs": [
    {
     "name": "stdout",
     "output_type": "stream",
     "text": [
      "0.07916004418104149\n"
     ]
    },
    {
     "ename": "NameError",
     "evalue": "name 'a2' is not defined",
     "output_type": "error",
     "traceback": [
      "\u001b[0;31m---------------------------------------------------------------------------\u001b[0m",
      "\u001b[0;31mNameError\u001b[0m                                 Traceback (most recent call last)",
      "\u001b[0;32m<ipython-input-17-031834065f44>\u001b[0m in \u001b[0;36m<module>\u001b[0;34m\u001b[0m\n\u001b[1;32m     10\u001b[0m \u001b[0mplt\u001b[0m\u001b[0;34m.\u001b[0m\u001b[0msavefig\u001b[0m\u001b[0;34m(\u001b[0m\u001b[0;34m'Force_GV.png'\u001b[0m\u001b[0;34m)\u001b[0m\u001b[0;34m\u001b[0m\u001b[0;34m\u001b[0m\u001b[0m\n\u001b[1;32m     11\u001b[0m \u001b[0mprint\u001b[0m\u001b[0;34m(\u001b[0m\u001b[0mnp\u001b[0m\u001b[0;34m.\u001b[0m\u001b[0mmean\u001b[0m\u001b[0;34m(\u001b[0m\u001b[0mf2\u001b[0m\u001b[0;34m[\u001b[0m\u001b[0;36m1500\u001b[0m\u001b[0;34m:\u001b[0m\u001b[0;34m]\u001b[0m\u001b[0;34m/\u001b[0m\u001b[0;36m10.\u001b[0m\u001b[0;34m)\u001b[0m\u001b[0;34m/\u001b[0m\u001b[0;34m(\u001b[0m\u001b[0;36m3.\u001b[0m\u001b[0;34m/\u001b[0m\u001b[0ma\u001b[0m\u001b[0;34m)\u001b[0m\u001b[0;34m)\u001b[0m\u001b[0;34m\u001b[0m\u001b[0;34m\u001b[0m\u001b[0m\n\u001b[0;32m---> 12\u001b[0;31m \u001b[0ma2\u001b[0m\u001b[0;34m[\u001b[0m\u001b[0;36m3\u001b[0m\u001b[0;34m]\u001b[0m \u001b[0;34m=\u001b[0m \u001b[0mnp\u001b[0m\u001b[0;34m.\u001b[0m\u001b[0mround\u001b[0m\u001b[0;34m(\u001b[0m\u001b[0mforce\u001b[0m\u001b[0;34m,\u001b[0m\u001b[0;36m5\u001b[0m\u001b[0;34m)\u001b[0m\u001b[0;34m\u001b[0m\u001b[0;34m\u001b[0m\u001b[0m\n\u001b[0m",
      "\u001b[0;31mNameError\u001b[0m: name 'a2' is not defined"
     ]
    },
    {
     "data": {
      "image/png": "[encoded data removed]",
      "text/plain": [
       "<Figure size 432x288 with 1 Axes>"
      ]
     },
     "metadata": {
      "needs_background": "light"
     },
     "output_type": "display_data"
    }
   ],
   "source": [
    "f2 = fy[:,num_0]**2+fx[:,num_0]**2+fz[:,num_0]**2 - 6 * gamma/ (h * gv) + gamma * (vy[:,num_0]**2+vx[:,num_0]**2+vz[:,num_0]**2)\n",
    "force = np.mean(f2[1500:])\n",
    "plt.plot(np.arange(count), f2)\n",
    "plt.plot(np.arange(count), force*np.ones(count),label=\"force^2 = {}\".format(round(force,5)))\n",
    "plt.legend()\n",
    "plt.title(\"Theory = {}\".format(round(3./a,5)))\n",
    "plt.grid()\n",
    "plt.xlabel('t')\n",
    "plt.ylabel(\"Г\")\n",
    "plt.savefig('Force_GV.png')\n",
    "print(np.mean(f2[1500:]/10.)/(3./a))\n",
    "a2[3] = np.round(force,5)"
   ]
  },
  {
   "cell_type": "code",
   "execution_count": null,
   "metadata": {},
   "outputs": [],
   "source": []
  }
 ],
 "metadata": {
  "kernelspec": {
   "display_name": "Python 3",
   "language": "python",
   "name": "python3"
  },
  "language_info": {
   "codemirror_mode": {
    "name": "ipython",
    "version": 3
   },
   "file_extension": ".py",
   "mimetype": "text/x-python",
   "name": "python",
   "nbconvert_exporter": "python",
   "pygments_lexer": "ipython3",
   "version": "3.8.5"
  }
 },
 "nbformat": 4,
 "nbformat_minor": 4
}
